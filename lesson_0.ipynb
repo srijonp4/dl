{
  "nbformat": 4,
  "nbformat_minor": 0,
  "metadata": {
    "colab": {
      "provenance": [],
      "authorship_tag": "ABX9TyNuAbdtSIsYdVnOaRutCxIq",
      "include_colab_link": true
    },
    "kernelspec": {
      "name": "python3",
      "display_name": "Python 3"
    },
    "language_info": {
      "name": "python"
    }
  },
  "cells": [
    {
      "cell_type": "markdown",
      "metadata": {
        "id": "view-in-github",
        "colab_type": "text"
      },
      "source": [
        "<a href=\"https://colab.research.google.com/github/srijonp4/dl/blob/main/lesson_0.ipynb\" target=\"_parent\"><img src=\"https://colab.research.google.com/assets/colab-badge.svg\" alt=\"Open In Colab\"/></a>"
      ]
    },
    {
      "cell_type": "code",
      "execution_count": 3,
      "metadata": {
        "id": "8wx2O2zK4oAU"
      },
      "outputs": [],
      "source": [
        "import tensorflow as tf\n",
        "import numpy as np\n",
        "import matplotlib.pyplot as plt\n",
        "import pandas as pd\n"
      ]
    },
    {
      "cell_type": "code",
      "source": [
        "tensor_zero_d = tf.constant(4)"
      ],
      "metadata": {
        "id": "wmAmrJ_s4q8D"
      },
      "execution_count": 4,
      "outputs": []
    },
    {
      "cell_type": "code",
      "source": [
        "import tensorflow as tf\n",
        "tensor_one_d = tf.constant([-2,0,2,3,4,5],dtype=tf.float32)\n",
        "tensor_one_d"
      ],
      "metadata": {
        "colab": {
          "base_uri": "https://localhost:8080/"
        },
        "id": "X0uyx3Mt4vjL",
        "outputId": "d7531193-a3e0-4cf6-891e-0067f7266b3c"
      },
      "execution_count": 5,
      "outputs": [
        {
          "output_type": "execute_result",
          "data": {
            "text/plain": [
              "<tf.Tensor: shape=(6,), dtype=float32, numpy=array([-2.,  0.,  2.,  3.,  4.,  5.], dtype=float32)>"
            ]
          },
          "metadata": {},
          "execution_count": 5
        }
      ]
    },
    {
      "cell_type": "code",
      "source": [
        "tensor_bool = tf.cast(tensor_one_d,dtype=tf.bool)\n",
        "tensor_bool"
      ],
      "metadata": {
        "colab": {
          "base_uri": "https://localhost:8080/"
        },
        "id": "mcE4CG2A9STp",
        "outputId": "9e1aef4a-9c7a-47bc-dfed-249a6e815dbf"
      },
      "execution_count": 6,
      "outputs": [
        {
          "output_type": "execute_result",
          "data": {
            "text/plain": [
              "<tf.Tensor: shape=(6,), dtype=bool, numpy=array([ True, False,  True,  True,  True,  True])>"
            ]
          },
          "metadata": {},
          "execution_count": 6
        }
      ]
    },
    {
      "cell_type": "code",
      "source": [
        "tensor_string = tf.constant(['helllo' , 'world'])\n",
        "tensor_string"
      ],
      "metadata": {
        "colab": {
          "base_uri": "https://localhost:8080/"
        },
        "id": "J5PPZYte9kfG",
        "outputId": "8b121ffe-9343-4084-d0cb-c66e5a794956"
      },
      "execution_count": 7,
      "outputs": [
        {
          "output_type": "execute_result",
          "data": {
            "text/plain": [
              "<tf.Tensor: shape=(2,), dtype=string, numpy=array([b'helllo', b'world'], dtype=object)>"
            ]
          },
          "metadata": {},
          "execution_count": 7
        }
      ]
    },
    {
      "cell_type": "code",
      "source": [
        "np_array = np.arange(0,25,dtype=float)\n",
        "np_array"
      ],
      "metadata": {
        "colab": {
          "base_uri": "https://localhost:8080/"
        },
        "id": "sqdmgjju-DXN",
        "outputId": "e1306d7a-9202-4f08-de52-bede2a36d1ca"
      },
      "execution_count": 8,
      "outputs": [
        {
          "output_type": "execute_result",
          "data": {
            "text/plain": [
              "array([ 0.,  1.,  2.,  3.,  4.,  5.,  6.,  7.,  8.,  9., 10., 11., 12.,\n",
              "       13., 14., 15., 16., 17., 18., 19., 20., 21., 22., 23., 24.])"
            ]
          },
          "metadata": {},
          "execution_count": 8
        }
      ]
    },
    {
      "cell_type": "code",
      "source": [
        "tensor_from_np_array = tf.convert_to_tensor(np_array)\n",
        "tensor_from_np_array"
      ],
      "metadata": {
        "colab": {
          "base_uri": "https://localhost:8080/"
        },
        "id": "In_MFKbr-n9c",
        "outputId": "5a4517a0-28d0-4d25-b5ee-0f626d289dbf"
      },
      "execution_count": 9,
      "outputs": [
        {
          "output_type": "execute_result",
          "data": {
            "text/plain": [
              "<tf.Tensor: shape=(25,), dtype=float64, numpy=\n",
              "array([ 0.,  1.,  2.,  3.,  4.,  5.,  6.,  7.,  8.,  9., 10., 11., 12.,\n",
              "       13., 14., 15., 16., 17., 18., 19., 20., 21., 22., 23., 24.])>"
            ]
          },
          "metadata": {},
          "execution_count": 9
        }
      ]
    },
    {
      "cell_type": "code",
      "source": [
        "eye_tensor = tf.eye(\n",
        "    num_rows = 3 ,\n",
        "    num_columns = None ,\n",
        "    batch_shape = None ,\n",
        "    dtype = tf.dtypes.float32,\n",
        "    name = None\n",
        ")\n",
        "print(eye_tensor)"
      ],
      "metadata": {
        "colab": {
          "base_uri": "https://localhost:8080/"
        },
        "id": "phjRRED1-5CN",
        "outputId": "f4171a82-b97a-43eb-c84f-642ce2fd0bb4"
      },
      "execution_count": 10,
      "outputs": [
        {
          "output_type": "stream",
          "name": "stdout",
          "text": [
            "tf.Tensor(\n",
            "[[1. 0. 0.]\n",
            " [0. 1. 0.]\n",
            " [0. 0. 1.]], shape=(3, 3), dtype=float32)\n"
          ]
        }
      ]
    },
    {
      "cell_type": "code",
      "source": [
        "eye_tensor_2 = tf.eye(\n",
        "    num_rows = 3 ,\n",
        "    num_columns = 4 ,\n",
        "    batch_shape = None ,\n",
        "    dtype = tf.dtypes.bool,\n",
        "    name = None\n",
        ")\n",
        "print(eye_tensor_2)"
      ],
      "metadata": {
        "colab": {
          "base_uri": "https://localhost:8080/"
        },
        "id": "XRrRqHRI_dsl",
        "outputId": "cf3aa19a-2931-4742-8420-a60b3c3f72f2"
      },
      "execution_count": 11,
      "outputs": [
        {
          "output_type": "stream",
          "name": "stdout",
          "text": [
            "tf.Tensor(\n",
            "[[ True False False False]\n",
            " [False  True False False]\n",
            " [False False  True False]], shape=(3, 4), dtype=bool)\n"
          ]
        }
      ]
    },
    {
      "cell_type": "code",
      "source": [
        "eye_tensor_3 = tf.eye(\n",
        "    num_rows = 3 ,\n",
        "    num_columns = None ,\n",
        "    batch_shape = [2,] ,\n",
        "    dtype = tf.dtypes.int32,\n",
        "    name = None\n",
        ")\n",
        "print(eye_tensor_3)"
      ],
      "metadata": {
        "colab": {
          "base_uri": "https://localhost:8080/"
        },
        "id": "lI7smng5_2dr",
        "outputId": "942556ee-c792-424e-9648-8d187b60fe2c"
      },
      "execution_count": 12,
      "outputs": [
        {
          "output_type": "stream",
          "name": "stdout",
          "text": [
            "tf.Tensor(\n",
            "[[[1 0 0]\n",
            "  [0 1 0]\n",
            "  [0 0 1]]\n",
            "\n",
            " [[1 0 0]\n",
            "  [0 1 0]\n",
            "  [0 0 1]]], shape=(2, 3, 3), dtype=int32)\n"
          ]
        }
      ]
    },
    {
      "cell_type": "code",
      "source": [
        "eye_tensor_4 = tf.eye(\n",
        "    num_rows = 3 ,\n",
        "    num_columns = None ,\n",
        "    batch_shape = [2,4] ,\n",
        "    dtype = tf.dtypes.int32,\n",
        "    name = None\n",
        ")\n",
        "print(eye_tensor_4)"
      ],
      "metadata": {
        "colab": {
          "base_uri": "https://localhost:8080/"
        },
        "id": "wmrBr6zJAVEs",
        "outputId": "1aa2a4f4-969b-4c2c-86b0-915c8614b2e1"
      },
      "execution_count": 13,
      "outputs": [
        {
          "output_type": "stream",
          "name": "stdout",
          "text": [
            "tf.Tensor(\n",
            "[[[[1 0 0]\n",
            "   [0 1 0]\n",
            "   [0 0 1]]\n",
            "\n",
            "  [[1 0 0]\n",
            "   [0 1 0]\n",
            "   [0 0 1]]\n",
            "\n",
            "  [[1 0 0]\n",
            "   [0 1 0]\n",
            "   [0 0 1]]\n",
            "\n",
            "  [[1 0 0]\n",
            "   [0 1 0]\n",
            "   [0 0 1]]]\n",
            "\n",
            "\n",
            " [[[1 0 0]\n",
            "   [0 1 0]\n",
            "   [0 0 1]]\n",
            "\n",
            "  [[1 0 0]\n",
            "   [0 1 0]\n",
            "   [0 0 1]]\n",
            "\n",
            "  [[1 0 0]\n",
            "   [0 1 0]\n",
            "   [0 0 1]]\n",
            "\n",
            "  [[1 0 0]\n",
            "   [0 1 0]\n",
            "   [0 0 1]]]], shape=(2, 4, 3, 3), dtype=int32)\n"
          ]
        }
      ]
    },
    {
      "cell_type": "code",
      "source": [
        "# fill method\n",
        "filled_tensor = tf.fill([2,3,5],4)\n",
        "filled_tensor"
      ],
      "metadata": {
        "colab": {
          "base_uri": "https://localhost:8080/"
        },
        "id": "S0c0YtmcAtQ7",
        "outputId": "451d6405-f7fd-4df1-c5e9-073ac23e890b"
      },
      "execution_count": 14,
      "outputs": [
        {
          "output_type": "execute_result",
          "data": {
            "text/plain": [
              "<tf.Tensor: shape=(2, 3, 5), dtype=int32, numpy=\n",
              "array([[[4, 4, 4, 4, 4],\n",
              "        [4, 4, 4, 4, 4],\n",
              "        [4, 4, 4, 4, 4]],\n",
              "\n",
              "       [[4, 4, 4, 4, 4],\n",
              "        [4, 4, 4, 4, 4],\n",
              "        [4, 4, 4, 4, 4]]], dtype=int32)>"
            ]
          },
          "metadata": {},
          "execution_count": 14
        }
      ]
    },
    {
      "cell_type": "code",
      "source": [
        "ones_tensor = tf.ones(shape=(5,3),dtype=tf.int16)\n",
        "ones_tensor"
      ],
      "metadata": {
        "colab": {
          "base_uri": "https://localhost:8080/"
        },
        "id": "xEghgNXRA5Sr",
        "outputId": "38e1b821-22d0-43fd-8868-3563c8df8b69"
      },
      "execution_count": 15,
      "outputs": [
        {
          "output_type": "execute_result",
          "data": {
            "text/plain": [
              "<tf.Tensor: shape=(5, 3), dtype=int16, numpy=\n",
              "array([[1, 1, 1],\n",
              "       [1, 1, 1],\n",
              "       [1, 1, 1],\n",
              "       [1, 1, 1],\n",
              "       [1, 1, 1]], dtype=int16)>"
            ]
          },
          "metadata": {},
          "execution_count": 15
        }
      ]
    },
    {
      "cell_type": "code",
      "source": [
        "print(filled_tensor)\n",
        "ones_like_tensor = tf.ones_like(filled_tensor)\n",
        "print(ones_like_tensor)"
      ],
      "metadata": {
        "colab": {
          "base_uri": "https://localhost:8080/"
        },
        "id": "WWXVDVhQCZuF",
        "outputId": "a90eba06-d393-4580-a4ec-ae1bc23a474a"
      },
      "execution_count": 16,
      "outputs": [
        {
          "output_type": "stream",
          "name": "stdout",
          "text": [
            "tf.Tensor(\n",
            "[[[4 4 4 4 4]\n",
            "  [4 4 4 4 4]\n",
            "  [4 4 4 4 4]]\n",
            "\n",
            " [[4 4 4 4 4]\n",
            "  [4 4 4 4 4]\n",
            "  [4 4 4 4 4]]], shape=(2, 3, 5), dtype=int32)\n",
            "tf.Tensor(\n",
            "[[[1 1 1 1 1]\n",
            "  [1 1 1 1 1]\n",
            "  [1 1 1 1 1]]\n",
            "\n",
            " [[1 1 1 1 1]\n",
            "  [1 1 1 1 1]\n",
            "  [1 1 1 1 1]]], shape=(2, 3, 5), dtype=int32)\n"
          ]
        }
      ]
    },
    {
      "cell_type": "code",
      "source": [
        "print(tf.shape(filled_tensor))"
      ],
      "metadata": {
        "id": "-NbtP7k5C3fJ",
        "colab": {
          "base_uri": "https://localhost:8080/"
        },
        "outputId": "ae3e5473-e9ec-4cc8-f521-b99090cb2803"
      },
      "execution_count": 17,
      "outputs": [
        {
          "output_type": "stream",
          "name": "stdout",
          "text": [
            "tf.Tensor([2 3 5], shape=(3,), dtype=int32)\n"
          ]
        }
      ]
    },
    {
      "cell_type": "code",
      "source": [
        "print(tf.rank(filled_tensor))"
      ],
      "metadata": {
        "colab": {
          "base_uri": "https://localhost:8080/"
        },
        "id": "Mv8q4wV2JNZq",
        "outputId": "8a4f127f-0fd4-475c-ac39-020f5614257c"
      },
      "execution_count": 18,
      "outputs": [
        {
          "output_type": "stream",
          "name": "stdout",
          "text": [
            "tf.Tensor(3, shape=(), dtype=int32)\n"
          ]
        }
      ]
    },
    {
      "cell_type": "code",
      "source": [
        "tf.size(filled_tensor)"
      ],
      "metadata": {
        "colab": {
          "base_uri": "https://localhost:8080/"
        },
        "id": "AeIDKxCeJW46",
        "outputId": "0435ac2c-14db-49d8-ff73-3d74b8142c78"
      },
      "execution_count": 19,
      "outputs": [
        {
          "output_type": "execute_result",
          "data": {
            "text/plain": [
              "<tf.Tensor: shape=(), dtype=int32, numpy=30>"
            ]
          },
          "metadata": {},
          "execution_count": 19
        }
      ]
    },
    {
      "cell_type": "code",
      "source": [
        "# crate random tensors"
      ],
      "metadata": {
        "id": "X1jwP-jJJtS0"
      },
      "execution_count": 20,
      "outputs": []
    },
    {
      "cell_type": "code",
      "source": [
        "random_tensor = tf.random.Generator.from_seed(42)\n",
        "random_tensor = random_tensor.normal(shape=(2,3),dtype=tf.float32)\n",
        "random_tensor_int = tf.cast(random_tensor, dtype=tf.int32)\n",
        "random_tensor_int"
      ],
      "metadata": {
        "colab": {
          "base_uri": "https://localhost:8080/"
        },
        "id": "z-csThFBJ75m",
        "outputId": "5f3cff29-49ca-4f24-99fc-b3a49694523d"
      },
      "execution_count": 21,
      "outputs": [
        {
          "output_type": "execute_result",
          "data": {
            "text/plain": [
              "<tf.Tensor: shape=(2, 3), dtype=int32, numpy=\n",
              "array([[ 0,  0,  0],\n",
              "       [-1,  0, -1]], dtype=int32)>"
            ]
          },
          "metadata": {},
          "execution_count": 21
        }
      ]
    },
    {
      "cell_type": "markdown",
      "source": [
        "#### 📔 [`probabilty playground`](https://www.acsu.buffalo.edu/~adamcunn/probability/normal.html)"
      ],
      "metadata": {
        "id": "Uek3TO3RMsUZ"
      }
    },
    {
      "cell_type": "code",
      "source": [
        "rando = tf.random.normal(\n",
        "    shape=(2,3),\n",
        "    mean=100.0,\n",
        "    stddev=1.0,\n",
        "    dtype=tf.dtypes.float32,\n",
        "    seed=None,\n",
        "    name=None\n",
        ")\n",
        "rando"
      ],
      "metadata": {
        "colab": {
          "base_uri": "https://localhost:8080/"
        },
        "id": "f4JuvBkLKPgh",
        "outputId": "e965a47b-da37-4d93-b25c-df271c2ff86d"
      },
      "execution_count": 22,
      "outputs": [
        {
          "output_type": "execute_result",
          "data": {
            "text/plain": [
              "<tf.Tensor: shape=(2, 3), dtype=float32, numpy=\n",
              "array([[100.19019 ,  99.9747  , 100.33843 ],\n",
              "       [100.541016,  99.697136, 100.055305]], dtype=float32)>"
            ]
          },
          "metadata": {},
          "execution_count": 22
        }
      ]
    },
    {
      "cell_type": "code",
      "source": [
        "uniform_dist = tf.random.uniform(\n",
        "    shape=(3,2),\n",
        "    minval=0,\n",
        "    maxval=None,\n",
        "    dtype=tf.dtypes.float32,\n",
        "    seed=None,\n",
        "    name=None\n",
        ")\n",
        "uniform_dist"
      ],
      "metadata": {
        "colab": {
          "base_uri": "https://localhost:8080/"
        },
        "id": "RIvx3zgwLnk3",
        "outputId": "ee7586a1-25d0-468b-e2a5-4bc4f8c87a33"
      },
      "execution_count": 23,
      "outputs": [
        {
          "output_type": "execute_result",
          "data": {
            "text/plain": [
              "<tf.Tensor: shape=(3, 2), dtype=float32, numpy=\n",
              "array([[0.1467135 , 0.6247933 ],\n",
              "       [0.54506266, 0.7704288 ],\n",
              "       [0.2028867 , 0.9542444 ]], dtype=float32)>"
            ]
          },
          "metadata": {},
          "execution_count": 23
        }
      ]
    },
    {
      "cell_type": "code",
      "source": [
        "tf.random.set_seed(42)\n",
        "uniform_dist_int = tf.random.uniform(\n",
        "    shape=(3,2),\n",
        "    minval=0,\n",
        "    maxval=3,\n",
        "    dtype=tf.dtypes.int32,\n",
        "    seed=42,\n",
        "    name=None\n",
        ")\n",
        "uniform_dist_int"
      ],
      "metadata": {
        "colab": {
          "base_uri": "https://localhost:8080/"
        },
        "id": "s3C91h4wOZ77",
        "outputId": "3ffecbea-fe55-46db-e0c2-6a88c9bce8a5"
      },
      "execution_count": 24,
      "outputs": [
        {
          "output_type": "execute_result",
          "data": {
            "text/plain": [
              "<tf.Tensor: shape=(3, 2), dtype=int32, numpy=\n",
              "array([[0, 1],\n",
              "       [1, 2],\n",
              "       [2, 1]], dtype=int32)>"
            ]
          },
          "metadata": {},
          "execution_count": 24
        }
      ]
    },
    {
      "cell_type": "code",
      "source": [
        "tf.random.set_seed(42) # setting a global seed\n",
        "uniform_dist_int_2 = tf.random.uniform(\n",
        "    shape=(3,2),\n",
        "    minval=0,\n",
        "    maxval=3,\n",
        "    dtype=tf.dtypes.int32,\n",
        "    seed=42,\n",
        "    name=None\n",
        ")\n",
        "uniform_dist_int_2\n"
      ],
      "metadata": {
        "colab": {
          "base_uri": "https://localhost:8080/"
        },
        "id": "_jdc225CPiuA",
        "outputId": "5fa9abcc-9b4e-48a8-b074-18229567ac2a"
      },
      "execution_count": 25,
      "outputs": [
        {
          "output_type": "execute_result",
          "data": {
            "text/plain": [
              "<tf.Tensor: shape=(3, 2), dtype=int32, numpy=\n",
              "array([[0, 1],\n",
              "       [1, 2],\n",
              "       [2, 1]], dtype=int32)>"
            ]
          },
          "metadata": {},
          "execution_count": 25
        }
      ]
    },
    {
      "cell_type": "code",
      "source": [
        "### Tensor Indexing"
      ],
      "metadata": {
        "id": "TmvUFanjPzqb"
      },
      "execution_count": 26,
      "outputs": []
    },
    {
      "cell_type": "code",
      "source": [
        "tensor_indexed = tf.constant([4,5,6,6,8,7,5,2])\n",
        "tensor_indexed[5]"
      ],
      "metadata": {
        "colab": {
          "base_uri": "https://localhost:8080/"
        },
        "id": "UOZ8i3poQNvr",
        "outputId": "8d6bf318-00da-4f70-bdcc-42e8fb44b29f"
      },
      "execution_count": 27,
      "outputs": [
        {
          "output_type": "execute_result",
          "data": {
            "text/plain": [
              "<tf.Tensor: shape=(), dtype=int32, numpy=7>"
            ]
          },
          "metadata": {},
          "execution_count": 27
        }
      ]
    },
    {
      "cell_type": "code",
      "source": [
        "uniform_dist_int = tf.random.uniform(\n",
        "    shape=(3,2),\n",
        "    minval=0,\n",
        "    maxval=52,\n",
        "    dtype=tf.dtypes.int32,\n",
        "    seed=42,\n",
        "    name=None\n",
        ")\n",
        "uniform_dist_int"
      ],
      "metadata": {
        "colab": {
          "base_uri": "https://localhost:8080/"
        },
        "id": "mV2-qHgsQeas",
        "outputId": "4a3812d4-818f-4411-d588-94a1286d28f6"
      },
      "execution_count": 28,
      "outputs": [
        {
          "output_type": "execute_result",
          "data": {
            "text/plain": [
              "<tf.Tensor: shape=(3, 2), dtype=int32, numpy=\n",
              "array([[28,  3],\n",
              "       [47, 36],\n",
              "       [34, 14]], dtype=int32)>"
            ]
          },
          "metadata": {},
          "execution_count": 28
        }
      ]
    },
    {
      "cell_type": "code",
      "source": [
        "print(uniform_dist_int[1][1])"
      ],
      "metadata": {
        "colab": {
          "base_uri": "https://localhost:8080/"
        },
        "id": "YHVgMcS2Quw0",
        "outputId": "a573c13b-b785-4936-ce3e-39db78aeb3cc"
      },
      "execution_count": 29,
      "outputs": [
        {
          "output_type": "stream",
          "name": "stdout",
          "text": [
            "tf.Tensor(36, shape=(), dtype=int32)\n"
          ]
        }
      ]
    },
    {
      "cell_type": "markdown",
      "source": [],
      "metadata": {
        "id": "8oN1ePxkRtMD"
      }
    },
    {
      "cell_type": "code",
      "source": [
        "T = tf.reshape(tf.constant(tf.range(1,25)),shape=(3,8))\n",
        "T"
      ],
      "metadata": {
        "colab": {
          "base_uri": "https://localhost:8080/"
        },
        "id": "-HJdaeXQQ29M",
        "outputId": "f6a10da9-3449-466c-c0d3-f11df9e346ac"
      },
      "execution_count": 30,
      "outputs": [
        {
          "output_type": "execute_result",
          "data": {
            "text/plain": [
              "<tf.Tensor: shape=(3, 8), dtype=int32, numpy=\n",
              "array([[ 1,  2,  3,  4,  5,  6,  7,  8],\n",
              "       [ 9, 10, 11, 12, 13, 14, 15, 16],\n",
              "       [17, 18, 19, 20, 21, 22, 23, 24]], dtype=int32)>"
            ]
          },
          "metadata": {},
          "execution_count": 30
        }
      ]
    },
    {
      "cell_type": "code",
      "source": [
        "print(T[1][1:8])"
      ],
      "metadata": {
        "colab": {
          "base_uri": "https://localhost:8080/"
        },
        "id": "xR2P6RcQRhRl",
        "outputId": "019bd378-e3f1-423c-9812-2c04a1de6be2"
      },
      "execution_count": 31,
      "outputs": [
        {
          "output_type": "stream",
          "name": "stdout",
          "text": [
            "tf.Tensor([10 11 12 13 14 15 16], shape=(7,), dtype=int32)\n"
          ]
        }
      ]
    },
    {
      "cell_type": "code",
      "source": [
        "print(T[:,0:2]) #(tensor[<rows>,<columns>])"
      ],
      "metadata": {
        "colab": {
          "base_uri": "https://localhost:8080/"
        },
        "id": "43Q_lgMWR-G9",
        "outputId": "973be8ed-337f-406d-8e96-0bff9a58a6c3"
      },
      "execution_count": 32,
      "outputs": [
        {
          "output_type": "stream",
          "name": "stdout",
          "text": [
            "tf.Tensor(\n",
            "[[ 1  2]\n",
            " [ 9 10]\n",
            " [17 18]], shape=(3, 2), dtype=int32)\n"
          ]
        }
      ]
    },
    {
      "cell_type": "code",
      "source": [
        "print(T[:,0])"
      ],
      "metadata": {
        "colab": {
          "base_uri": "https://localhost:8080/"
        },
        "id": "B-aLTgGZSzPN",
        "outputId": "684a52e2-96e7-49ef-f757-2706f64f876b"
      },
      "execution_count": 33,
      "outputs": [
        {
          "output_type": "stream",
          "name": "stdout",
          "text": [
            "tf.Tensor([ 1  9 17], shape=(3,), dtype=int32)\n"
          ]
        }
      ]
    },
    {
      "cell_type": "code",
      "source": [
        "print(T[:,-1])\n"
      ],
      "metadata": {
        "colab": {
          "base_uri": "https://localhost:8080/"
        },
        "id": "99X94JzaT4_0",
        "outputId": "d311d14a-15ef-45c5-c038-3c6747b935a2"
      },
      "execution_count": 34,
      "outputs": [
        {
          "output_type": "stream",
          "name": "stdout",
          "text": [
            "tf.Tensor([ 8 16 24], shape=(3,), dtype=int32)\n"
          ]
        }
      ]
    },
    {
      "cell_type": "code",
      "source": [
        "print(T[0:2,:])\n",
        "print(T[...,0:2])"
      ],
      "metadata": {
        "colab": {
          "base_uri": "https://localhost:8080/"
        },
        "id": "mNMcOVv8UF0k",
        "outputId": "671a9b7e-3e0e-48a6-e4bd-86a7c83d06f2"
      },
      "execution_count": 35,
      "outputs": [
        {
          "output_type": "stream",
          "name": "stdout",
          "text": [
            "tf.Tensor(\n",
            "[[ 1  2  3  4  5  6  7  8]\n",
            " [ 9 10 11 12 13 14 15 16]], shape=(2, 8), dtype=int32)\n",
            "tf.Tensor(\n",
            "[[ 1  2]\n",
            " [ 9 10]\n",
            " [17 18]], shape=(3, 2), dtype=int32)\n"
          ]
        }
      ]
    },
    {
      "cell_type": "code",
      "source": [
        "T = tf.reshape(tf.constant(tf.range(1,25)),shape=(2,3,4))\n",
        "T"
      ],
      "metadata": {
        "colab": {
          "base_uri": "https://localhost:8080/"
        },
        "id": "-s_2NMtNUPIR",
        "outputId": "0828ad12-d44a-47bf-bdb6-670e854bb99f"
      },
      "execution_count": 36,
      "outputs": [
        {
          "output_type": "execute_result",
          "data": {
            "text/plain": [
              "<tf.Tensor: shape=(2, 3, 4), dtype=int32, numpy=\n",
              "array([[[ 1,  2,  3,  4],\n",
              "        [ 5,  6,  7,  8],\n",
              "        [ 9, 10, 11, 12]],\n",
              "\n",
              "       [[13, 14, 15, 16],\n",
              "        [17, 18, 19, 20],\n",
              "        [21, 22, 23, 24]]], dtype=int32)>"
            ]
          },
          "metadata": {},
          "execution_count": 36
        }
      ]
    },
    {
      "cell_type": "code",
      "source": [
        "print(T[0 , : ,: ])"
      ],
      "metadata": {
        "colab": {
          "base_uri": "https://localhost:8080/"
        },
        "id": "x_EzDVLtUmTJ",
        "outputId": "394b2146-2bd1-430f-ccd2-55b3d37f086b"
      },
      "execution_count": 37,
      "outputs": [
        {
          "output_type": "stream",
          "name": "stdout",
          "text": [
            "tf.Tensor(\n",
            "[[ 1  2  3  4]\n",
            " [ 5  6  7  8]\n",
            " [ 9 10 11 12]], shape=(3, 4), dtype=int32)\n"
          ]
        }
      ]
    },
    {
      "cell_type": "code",
      "source": [
        "print(T[0 ,0 ,: ])\n"
      ],
      "metadata": {
        "colab": {
          "base_uri": "https://localhost:8080/"
        },
        "id": "lDG53YrHVX2x",
        "outputId": "91aa5fb7-ef8f-4fad-894d-a7a1442f606f"
      },
      "execution_count": 38,
      "outputs": [
        {
          "output_type": "stream",
          "name": "stdout",
          "text": [
            "tf.Tensor([1 2 3 4], shape=(4,), dtype=int32)\n"
          ]
        }
      ]
    },
    {
      "cell_type": "code",
      "source": [
        "print(T[0 , 1 ,: ])\n"
      ],
      "metadata": {
        "colab": {
          "base_uri": "https://localhost:8080/"
        },
        "id": "So74xR4zVucJ",
        "outputId": "db92cfea-ba40-4987-85c3-959bb7e23d42"
      },
      "execution_count": 39,
      "outputs": [
        {
          "output_type": "stream",
          "name": "stdout",
          "text": [
            "tf.Tensor([5 6 7 8], shape=(4,), dtype=int32)\n"
          ]
        }
      ]
    },
    {
      "cell_type": "code",
      "source": [
        "print(T[0 , : ,1 ])\n"
      ],
      "metadata": {
        "colab": {
          "base_uri": "https://localhost:8080/"
        },
        "id": "KY4PCGe4Vw1R",
        "outputId": "7430d2ce-58cf-4c92-adbb-1d8960780a3b"
      },
      "execution_count": 40,
      "outputs": [
        {
          "output_type": "stream",
          "name": "stdout",
          "text": [
            "tf.Tensor([ 2  6 10], shape=(3,), dtype=int32)\n"
          ]
        }
      ]
    },
    {
      "cell_type": "code",
      "source": [
        "print(T[0 , : ,0:2 ])\n"
      ],
      "metadata": {
        "colab": {
          "base_uri": "https://localhost:8080/"
        },
        "id": "KVHaok4HV0v3",
        "outputId": "ab341482-2949-4146-8890-24e74125a371"
      },
      "execution_count": 41,
      "outputs": [
        {
          "output_type": "stream",
          "name": "stdout",
          "text": [
            "tf.Tensor(\n",
            "[[ 1  2]\n",
            " [ 5  6]\n",
            " [ 9 10]], shape=(3, 2), dtype=int32)\n"
          ]
        }
      ]
    },
    {
      "cell_type": "code",
      "source": [
        "print(T[0 , 1 ,0:2 ])\n"
      ],
      "metadata": {
        "colab": {
          "base_uri": "https://localhost:8080/"
        },
        "id": "GbU7BgvrV4Wm",
        "outputId": "81d8d316-4081-425d-df11-b969f81a02a5"
      },
      "execution_count": 42,
      "outputs": [
        {
          "output_type": "stream",
          "name": "stdout",
          "text": [
            "tf.Tensor([5 6], shape=(2,), dtype=int32)\n"
          ]
        }
      ]
    },
    {
      "cell_type": "code",
      "source": [
        "print(T[: , 1 ,0:2 ])\n"
      ],
      "metadata": {
        "colab": {
          "base_uri": "https://localhost:8080/"
        },
        "id": "fuNUi29jV-Ig",
        "outputId": "fef96311-5d5f-42a6-9f47-0048e02f7c32"
      },
      "execution_count": 43,
      "outputs": [
        {
          "output_type": "stream",
          "name": "stdout",
          "text": [
            "tf.Tensor(\n",
            "[[ 5  6]\n",
            " [17 18]], shape=(2, 2), dtype=int32)\n"
          ]
        }
      ]
    },
    {
      "cell_type": "code",
      "source": [
        "print(T[... , : , 1 ])\n"
      ],
      "metadata": {
        "colab": {
          "base_uri": "https://localhost:8080/"
        },
        "id": "FK0hclZJWOxV",
        "outputId": "5219ebc4-d081-424c-adc0-57cba265dabd"
      },
      "execution_count": 44,
      "outputs": [
        {
          "output_type": "stream",
          "name": "stdout",
          "text": [
            "tf.Tensor(\n",
            "[[ 2  6 10]\n",
            " [14 18 22]], shape=(2, 3), dtype=int32)\n"
          ]
        }
      ]
    },
    {
      "cell_type": "markdown",
      "source": [
        " ### tf.math.<...> tensorflow math lib"
      ],
      "metadata": {
        "id": "EcQKxOkQW9Vc"
      }
    },
    {
      "cell_type": "code",
      "source": [
        "x_abs = tf.abs(tf.constant([-2,25,3.35]))\n",
        "x_abs"
      ],
      "metadata": {
        "colab": {
          "base_uri": "https://localhost:8080/"
        },
        "id": "XLYLh4SOXexr",
        "outputId": "a0ed3a5a-1c8e-4996-94fc-eebed5db409a"
      },
      "execution_count": 45,
      "outputs": [
        {
          "output_type": "execute_result",
          "data": {
            "text/plain": [
              "<tf.Tensor: shape=(3,), dtype=float32, numpy=array([ 2.  , 25.  ,  3.35], dtype=float32)>"
            ]
          },
          "metadata": {},
          "execution_count": 45
        }
      ]
    },
    {
      "cell_type": "code",
      "source": [
        "tf.cast(x_abs,dtype=tf.int32)"
      ],
      "metadata": {
        "colab": {
          "base_uri": "https://localhost:8080/"
        },
        "id": "OjeyaYKSX7KI",
        "outputId": "6739d5b5-4ca4-41b3-dbd2-87066c2def88"
      },
      "execution_count": 46,
      "outputs": [
        {
          "output_type": "execute_result",
          "data": {
            "text/plain": [
              "<tf.Tensor: shape=(3,), dtype=int32, numpy=array([ 2, 25,  3], dtype=int32)>"
            ]
          },
          "metadata": {},
          "execution_count": 46
        }
      ]
    },
    {
      "cell_type": "code",
      "source": [
        "x_1 = tf.constant(tf.range(0,8))\n",
        "print(x_1)\n",
        "x_2 = tf.constant(tf.range(8,16))\n",
        "print(x_2)\n",
        "print(tf.math.divide(x_1,x_2))\n",
        "print(tf.math.divide_no_nan(x_1,x_2))\n"
      ],
      "metadata": {
        "colab": {
          "base_uri": "https://localhost:8080/"
        },
        "id": "Jl0t6wjoYbgi",
        "outputId": "2aafe2db-ae23-4ac7-f75b-2faf134c2f1d"
      },
      "execution_count": 47,
      "outputs": [
        {
          "output_type": "stream",
          "name": "stdout",
          "text": [
            "tf.Tensor([0 1 2 3 4 5 6 7], shape=(8,), dtype=int32)\n",
            "tf.Tensor([ 8  9 10 11 12 13 14 15], shape=(8,), dtype=int32)\n",
            "tf.Tensor(\n",
            "[0.         0.11111111 0.2        0.27272727 0.33333333 0.38461538\n",
            " 0.42857143 0.46666667], shape=(8,), dtype=float64)\n",
            "tf.Tensor(\n",
            "[0.         0.11111111 0.2        0.27272727 0.33333333 0.38461538\n",
            " 0.42857143 0.46666667], shape=(8,), dtype=float64)\n"
          ]
        }
      ]
    },
    {
      "cell_type": "code",
      "source": [
        "print(tf.add(x_2 ,tf.constant([2])))\n",
        "print(tf.add(x_2 ,tf.constant([2])))\n"
      ],
      "metadata": {
        "colab": {
          "base_uri": "https://localhost:8080/"
        },
        "id": "4wZHQRZqZyh3",
        "outputId": "ac1c8c33-704a-4ca5-a3e1-bab194795661"
      },
      "execution_count": 48,
      "outputs": [
        {
          "output_type": "stream",
          "name": "stdout",
          "text": [
            "tf.Tensor([10 11 12 13 14 15 16 17], shape=(8,), dtype=int32)\n",
            "tf.Tensor([10 11 12 13 14 15 16 17], shape=(8,), dtype=int32)\n"
          ]
        }
      ]
    },
    {
      "cell_type": "code",
      "source": [
        "print(tf.maximum(x_1,x_2))"
      ],
      "metadata": {
        "colab": {
          "base_uri": "https://localhost:8080/"
        },
        "id": "f0XpwqGxabGe",
        "outputId": "e9ac2ef6-f4b3-46be-d849-6efb1ce3bad0"
      },
      "execution_count": 49,
      "outputs": [
        {
          "output_type": "stream",
          "name": "stdout",
          "text": [
            "tf.Tensor([ 8  9 10 11 12 13 14 15], shape=(8,), dtype=int32)\n"
          ]
        }
      ]
    },
    {
      "cell_type": "code",
      "source": [
        "B = tf.constant([\n",
        "                [2, 20, 30, 3, 6],\n",
        "                [3, 11, 16, 1, 8],\n",
        "                [14, 45, 23, 5, 27]\n",
        "                ])\n",
        "tf.math.argmax(B, 0)"
      ],
      "metadata": {
        "colab": {
          "base_uri": "https://localhost:8080/"
        },
        "id": "fptRVX3QbLOj",
        "outputId": "884be37d-663c-47f9-91a8-ce888817eea7"
      },
      "execution_count": 50,
      "outputs": [
        {
          "output_type": "execute_result",
          "data": {
            "text/plain": [
              "<tf.Tensor: shape=(5,), dtype=int64, numpy=array([2, 2, 0, 2, 2])>"
            ]
          },
          "metadata": {},
          "execution_count": 50
        }
      ]
    },
    {
      "cell_type": "code",
      "source": [
        "B = tf.constant([\n",
        "                [2, 20, 30, 3, 6],\n",
        "                [3, 11, 16, 1, 8],\n",
        "                [14, 45, 23, 5, 27]\n",
        "                ])\n",
        "tf.math.argmax(B, 1)"
      ],
      "metadata": {
        "colab": {
          "base_uri": "https://localhost:8080/"
        },
        "id": "WQs-si2SdzGH",
        "outputId": "3960ca38-4535-4f87-8122-8141abc5d564"
      },
      "execution_count": 51,
      "outputs": [
        {
          "output_type": "execute_result",
          "data": {
            "text/plain": [
              "<tf.Tensor: shape=(3,), dtype=int64, numpy=array([2, 2, 1])>"
            ]
          },
          "metadata": {},
          "execution_count": 51
        }
      ]
    },
    {
      "cell_type": "code",
      "source": [
        "C = tf.constant([200, 20, 30, 3, 6])\n",
        "tf.argmin(C)"
      ],
      "metadata": {
        "colab": {
          "base_uri": "https://localhost:8080/"
        },
        "id": "OM5R9QyfeAML",
        "outputId": "0d4f77d5-fb01-4492-e089-3102aef26e24"
      },
      "execution_count": 52,
      "outputs": [
        {
          "output_type": "execute_result",
          "data": {
            "text/plain": [
              "<tf.Tensor: shape=(), dtype=int64, numpy=3>"
            ]
          },
          "metadata": {},
          "execution_count": 52
        }
      ]
    },
    {
      "cell_type": "code",
      "source": [
        "D = tf.constant([\n",
        "                [2, 20, 30, 3, 6],\n",
        "                [3, 11, 16, 1, 8],\n",
        "                [14, 45, 23, 5, 27]\n",
        "                ])\n",
        "print(tf.equal(B,D))"
      ],
      "metadata": {
        "colab": {
          "base_uri": "https://localhost:8080/"
        },
        "id": "Jd-kpSYMeRxv",
        "outputId": "d92a1356-2adb-4f15-babf-e7adabb34730"
      },
      "execution_count": 53,
      "outputs": [
        {
          "output_type": "stream",
          "name": "stdout",
          "text": [
            "tf.Tensor(\n",
            "[[ True  True  True  True  True]\n",
            " [ True  True  True  True  True]\n",
            " [ True  True  True  True  True]], shape=(3, 5), dtype=bool)\n"
          ]
        }
      ]
    },
    {
      "cell_type": "code",
      "source": [
        "x = tf.constant([[2, 2], [3, 3]])\n",
        "y = tf.constant([[8, 16], [2, 3]])\n",
        "tf.pow(x, y)  # [[256, 65536], [9, 27]]"
      ],
      "metadata": {
        "colab": {
          "base_uri": "https://localhost:8080/"
        },
        "id": "8FjCiqmhepBl",
        "outputId": "fb2d8e3a-3f09-4e9f-dcd8-b04f5eb6533c"
      },
      "execution_count": 54,
      "outputs": [
        {
          "output_type": "execute_result",
          "data": {
            "text/plain": [
              "<tf.Tensor: shape=(2, 2), dtype=int32, numpy=\n",
              "array([[  256, 65536],\n",
              "       [    9,    27]], dtype=int32)>"
            ]
          },
          "metadata": {},
          "execution_count": 54
        }
      ]
    },
    {
      "cell_type": "code",
      "source": [
        "tensor_2d = tf.reshape(tf.constant(tf.range(1,7)),shape=(2,3))\n",
        "tensor_2d"
      ],
      "metadata": {
        "colab": {
          "base_uri": "https://localhost:8080/"
        },
        "id": "uBVzb-regilY",
        "outputId": "475216fa-9eb6-48b3-e3c0-60d9595497fa"
      },
      "execution_count": 55,
      "outputs": [
        {
          "output_type": "execute_result",
          "data": {
            "text/plain": [
              "<tf.Tensor: shape=(2, 3), dtype=int32, numpy=\n",
              "array([[1, 2, 3],\n",
              "       [4, 5, 6]], dtype=int32)>"
            ]
          },
          "metadata": {},
          "execution_count": 55
        }
      ]
    },
    {
      "cell_type": "code",
      "source": [
        "tf.math.reduce_sum(\n",
        "    tensor_2d, axis=None, keepdims=False, name=None\n",
        ")"
      ],
      "metadata": {
        "colab": {
          "base_uri": "https://localhost:8080/"
        },
        "id": "BnWMUr_YhGTJ",
        "outputId": "8e1f01e8-b30d-46f4-ba7f-75137e5692f0"
      },
      "execution_count": 56,
      "outputs": [
        {
          "output_type": "execute_result",
          "data": {
            "text/plain": [
              "<tf.Tensor: shape=(), dtype=int32, numpy=21>"
            ]
          },
          "metadata": {},
          "execution_count": 56
        }
      ]
    },
    {
      "cell_type": "code",
      "source": [
        "tf.math.reduce_sum(\n",
        "    tensor_2d, axis=0, keepdims=False, name=None\n",
        ")"
      ],
      "metadata": {
        "colab": {
          "base_uri": "https://localhost:8080/"
        },
        "id": "m-UglcrJhL7y",
        "outputId": "e62e3075-222e-4157-bda3-27c880999979"
      },
      "execution_count": 57,
      "outputs": [
        {
          "output_type": "execute_result",
          "data": {
            "text/plain": [
              "<tf.Tensor: shape=(3,), dtype=int32, numpy=array([5, 7, 9], dtype=int32)>"
            ]
          },
          "metadata": {},
          "execution_count": 57
        }
      ]
    },
    {
      "cell_type": "code",
      "source": [
        "tf.math.reduce_sum(\n",
        "    tensor_2d, axis=1, keepdims=True, name=None\n",
        ")"
      ],
      "metadata": {
        "colab": {
          "base_uri": "https://localhost:8080/"
        },
        "id": "rd7l56n8hXWd",
        "outputId": "00a1d607-1638-412e-ac91-346b77c3d3e6"
      },
      "execution_count": 58,
      "outputs": [
        {
          "output_type": "execute_result",
          "data": {
            "text/plain": [
              "<tf.Tensor: shape=(2, 1), dtype=int32, numpy=\n",
              "array([[ 6],\n",
              "       [15]], dtype=int32)>"
            ]
          },
          "metadata": {},
          "execution_count": 58
        }
      ]
    },
    {
      "cell_type": "markdown",
      "source": [
        "\n",
        "#### Sigmoid function\n",
        "\n",
        "![Sigmoid Formula](https://raw.githubusercontent.com/srijonp4/dl/main/Screenshot%202024-03-11%20225640.png)"
      ],
      "metadata": {
        "id": "FUrb7ymzhaNd"
      }
    },
    {
      "cell_type": "code",
      "source": [
        "x = tf.constant([0.0, 1.0, 50.0, 100.0])\n",
        "tf.math.sigmoid(x)\n",
        "\n"
      ],
      "metadata": {
        "colab": {
          "base_uri": "https://localhost:8080/"
        },
        "id": "af6kdZyuiIs2",
        "outputId": "e8875d40-6f73-4572-8a59-1a1da50c6e4c"
      },
      "execution_count": 59,
      "outputs": [
        {
          "output_type": "execute_result",
          "data": {
            "text/plain": [
              "<tf.Tensor: shape=(4,), dtype=float32, numpy=array([0.5      , 0.7310586, 1.       , 1.       ], dtype=float32)>"
            ]
          },
          "metadata": {},
          "execution_count": 59
        }
      ]
    },
    {
      "cell_type": "code",
      "source": [
        "# top K\n",
        "\n",
        "result = tf.math.top_k([1, 2, 98, 1, 1, 99, 3, 1, 3, 96, 4, 1],\n",
        "                        k=3)\n",
        "result.values.numpy()\n",
        "result.indices.numpy()\n"
      ],
      "metadata": {
        "id": "W-pIkeAhl7-L",
        "colab": {
          "base_uri": "https://localhost:8080/"
        },
        "outputId": "59184dfc-5fe4-4284-e970-b7b09a0b24c7"
      },
      "execution_count": 61,
      "outputs": [
        {
          "output_type": "execute_result",
          "data": {
            "text/plain": [
              "array([5, 2, 9], dtype=int32)"
            ]
          },
          "metadata": {},
          "execution_count": 61
        }
      ]
    },
    {
      "cell_type": "code",
      "source": [
        "C  = tf.constant([[1, 2, 3],\n",
        "       [4, 5, 6],\n",
        "      [7,8,9]])\n",
        "C"
      ],
      "metadata": {
        "colab": {
          "base_uri": "https://localhost:8080/"
        },
        "id": "gVjxrcryQHUY",
        "outputId": "dea87527-7c19-4772-f3bc-77e560d4137f"
      },
      "execution_count": 64,
      "outputs": [
        {
          "output_type": "execute_result",
          "data": {
            "text/plain": [
              "<tf.Tensor: shape=(3, 3), dtype=int32, numpy=\n",
              "array([[1, 2, 3],\n",
              "       [4, 5, 6],\n",
              "       [7, 8, 9]], dtype=int32)>"
            ]
          },
          "metadata": {},
          "execution_count": 64
        }
      ]
    },
    {
      "cell_type": "code",
      "source": [
        "result  = tf.math.top_k(C,k=2,sorted=False)\n",
        "print(result.values.numpy())\n",
        "result.indices.numpy()"
      ],
      "metadata": {
        "colab": {
          "base_uri": "https://localhost:8080/"
        },
        "id": "3w9v9ucVQ13X",
        "outputId": "b94d5755-70ed-4fbc-b30d-290ba1db3ea6"
      },
      "execution_count": 72,
      "outputs": [
        {
          "output_type": "stream",
          "name": "stdout",
          "text": [
            "[[2 3]\n",
            " [5 6]\n",
            " [8 9]]\n"
          ]
        },
        {
          "output_type": "execute_result",
          "data": {
            "text/plain": [
              "array([[1, 2],\n",
              "       [1, 2],\n",
              "       [1, 2]], dtype=int32)"
            ]
          },
          "metadata": {},
          "execution_count": 72
        }
      ]
    },
    {
      "cell_type": "markdown",
      "source": [
        "# tf.linalg.<....>"
      ],
      "metadata": {
        "id": "f8THif2TROHX"
      }
    },
    {
      "cell_type": "code",
      "source": [
        "# matmul\n",
        "a = tf.constant([1, 2, 3, 4, 5, 6], shape=[2, 3])\n",
        "print(a)  # 2-D tensor\n",
        "\n",
        "\n",
        "\n",
        "b = tf.constant([7, 8, 9, 10, 11, 12], shape=[3, 2])\n",
        "print(b ) # 2-D tensor\n",
        "\n",
        "\n",
        "\n",
        "\n",
        "c = tf.matmul(a, b)\n",
        "print(c ) # `a` * `b`"
      ],
      "metadata": {
        "colab": {
          "base_uri": "https://localhost:8080/"
        },
        "id": "xhsqaesDRu98",
        "outputId": "abae53d4-01ed-4135-884b-a6de4415aa47"
      },
      "execution_count": 74,
      "outputs": [
        {
          "output_type": "stream",
          "name": "stdout",
          "text": [
            "tf.Tensor(\n",
            "[[1 2 3]\n",
            " [4 5 6]], shape=(2, 3), dtype=int32)\n",
            "tf.Tensor(\n",
            "[[ 7  8]\n",
            " [ 9 10]\n",
            " [11 12]], shape=(3, 2), dtype=int32)\n",
            "tf.Tensor(\n",
            "[[ 58  64]\n",
            " [139 154]], shape=(2, 2), dtype=int32)\n"
          ]
        }
      ]
    },
    {
      "cell_type": "code",
      "source": [
        "a = tf.constant(np.arange(1, 13, dtype=np.int32), shape=[2, 2, 3])\n",
        "print(a)  # 3-D tensor\n",
        "\n",
        "\n",
        "print(\"..................\")\n",
        "\n",
        "\n",
        "b = tf.constant(np.arange(13, 25, dtype=np.int32), shape=[2, 3, 2])\n",
        "print(b)  # 3-D tensor\n",
        "print(\"..................\")\n",
        "\n",
        "\n",
        "\n",
        "\n",
        "\n",
        "\n",
        "\n",
        "c = tf.matmul(a, b)\n",
        "print(c)  # `a` * `b`\n",
        "print(\"..................\")"
      ],
      "metadata": {
        "colab": {
          "base_uri": "https://localhost:8080/"
        },
        "id": "e1DxKj6NR6Mu",
        "outputId": "e0b1d572-7fa5-43a6-c507-05e2429bf923"
      },
      "execution_count": 75,
      "outputs": [
        {
          "output_type": "stream",
          "name": "stdout",
          "text": [
            "tf.Tensor(\n",
            "[[[ 1  2  3]\n",
            "  [ 4  5  6]]\n",
            "\n",
            " [[ 7  8  9]\n",
            "  [10 11 12]]], shape=(2, 2, 3), dtype=int32)\n",
            "..................\n",
            "tf.Tensor(\n",
            "[[[13 14]\n",
            "  [15 16]\n",
            "  [17 18]]\n",
            "\n",
            " [[19 20]\n",
            "  [21 22]\n",
            "  [23 24]]], shape=(2, 3, 2), dtype=int32)\n",
            "..................\n",
            "tf.Tensor(\n",
            "[[[ 94 100]\n",
            "  [229 244]]\n",
            "\n",
            " [[508 532]\n",
            "  [697 730]]], shape=(2, 2, 2), dtype=int32)\n",
            "..................\n"
          ]
        }
      ]
    },
    {
      "cell_type": "code",
      "source": [
        "d= tf.constant(np.arange(1,7),shape=(2,3))\n",
        "d"
      ],
      "metadata": {
        "colab": {
          "base_uri": "https://localhost:8080/"
        },
        "id": "FD6CgztmSpNs",
        "outputId": "9cca5927-5517-4cce-eea6-604646db2939"
      },
      "execution_count": 77,
      "outputs": [
        {
          "output_type": "execute_result",
          "data": {
            "text/plain": [
              "<tf.Tensor: shape=(2, 3), dtype=int64, numpy=\n",
              "array([[1, 2, 3],\n",
              "       [4, 5, 6]])>"
            ]
          },
          "metadata": {},
          "execution_count": 77
        }
      ]
    },
    {
      "cell_type": "code",
      "source": [
        "e= tf.constant(np.arange(1,7),shape=(2,3))\n",
        "e\n"
      ],
      "metadata": {
        "colab": {
          "base_uri": "https://localhost:8080/"
        },
        "id": "o86CVCWeTJEo",
        "outputId": "8106d81b-d81e-4b80-f9d8-4c0ba0de7bd2"
      },
      "execution_count": 78,
      "outputs": [
        {
          "output_type": "execute_result",
          "data": {
            "text/plain": [
              "<tf.Tensor: shape=(2, 3), dtype=int64, numpy=\n",
              "array([[1, 2, 3],\n",
              "       [4, 5, 6]])>"
            ]
          },
          "metadata": {},
          "execution_count": 78
        }
      ]
    },
    {
      "cell_type": "code",
      "source": [
        "# tf.matmul(e,d)#cant multiply"
      ],
      "metadata": {
        "id": "9tlzhHLCTPQ4"
      },
      "execution_count": 81,
      "outputs": []
    },
    {
      "cell_type": "code",
      "source": [
        "tf.matmul(tf.transpose(e),d)#cant multiply\n"
      ],
      "metadata": {
        "colab": {
          "base_uri": "https://localhost:8080/"
        },
        "id": "xOGwgHEOTShO",
        "outputId": "f8aa4124-3b4e-4056-d797-a1158f7fea6c"
      },
      "execution_count": 82,
      "outputs": [
        {
          "output_type": "execute_result",
          "data": {
            "text/plain": [
              "<tf.Tensor: shape=(3, 3), dtype=int64, numpy=\n",
              "array([[17, 22, 27],\n",
              "       [22, 29, 36],\n",
              "       [27, 36, 45]])>"
            ]
          },
          "metadata": {},
          "execution_count": 82
        }
      ]
    },
    {
      "cell_type": "code",
      "source": [
        "tf.matmul(\n",
        "    d, e ,transpose_a=False,transpose_b=True,adjoint_a=False,adjoint_b=False,\n",
        "    a_is_sparse=False , b_is_sparse=False , output_type=None ,name=None\n",
        ")"
      ],
      "metadata": {
        "colab": {
          "base_uri": "https://localhost:8080/"
        },
        "id": "v8OR1zF8TnZU",
        "outputId": "c42f3ef3-8e52-4879-e632-c2fc6d69e1e3"
      },
      "execution_count": 90,
      "outputs": [
        {
          "output_type": "execute_result",
          "data": {
            "text/plain": [
              "<tf.Tensor: shape=(2, 2), dtype=int64, numpy=\n",
              "array([[14, 32],\n",
              "       [32, 77]])>"
            ]
          },
          "metadata": {},
          "execution_count": 90
        }
      ]
    },
    {
      "cell_type": "code",
      "source": [
        "d"
      ],
      "metadata": {
        "colab": {
          "base_uri": "https://localhost:8080/"
        },
        "id": "4jB3tH7OUXXY",
        "outputId": "d3ac9cc8-9780-4d60-db3a-28eb6d693b60"
      },
      "execution_count": 87,
      "outputs": [
        {
          "output_type": "execute_result",
          "data": {
            "text/plain": [
              "<tf.Tensor: shape=(2, 3), dtype=int64, numpy=\n",
              "array([[1, 2, 3],\n",
              "       [4, 5, 6]])>"
            ]
          },
          "metadata": {},
          "execution_count": 87
        }
      ]
    },
    {
      "cell_type": "code",
      "source": [
        "tf.matmul(\n",
        "    d, e ,transpose_a=True,transpose_b=False,adjoint_a=False,adjoint_b=False,\n",
        "    a_is_sparse=False , b_is_sparse=False , output_type=None ,name=None\n",
        ")"
      ],
      "metadata": {
        "colab": {
          "base_uri": "https://localhost:8080/"
        },
        "id": "PuqWdoVgU_zx",
        "outputId": "96ed7d62-addb-48e1-9633-1d5926491a28"
      },
      "execution_count": 91,
      "outputs": [
        {
          "output_type": "execute_result",
          "data": {
            "text/plain": [
              "<tf.Tensor: shape=(3, 3), dtype=int64, numpy=\n",
              "array([[17, 22, 27],\n",
              "       [22, 29, 36],\n",
              "       [27, 36, 45]])>"
            ]
          },
          "metadata": {},
          "execution_count": 91
        }
      ]
    },
    {
      "cell_type": "code",
      "source": [
        "d@tf.transpose(e)"
      ],
      "metadata": {
        "colab": {
          "base_uri": "https://localhost:8080/"
        },
        "id": "MKO16r5aWFoQ",
        "outputId": "a019694e-c82d-44b2-e06f-a0659e1748bd"
      },
      "execution_count": 92,
      "outputs": [
        {
          "output_type": "execute_result",
          "data": {
            "text/plain": [
              "<tf.Tensor: shape=(2, 2), dtype=int64, numpy=\n",
              "array([[14, 32],\n",
              "       [32, 77]])>"
            ]
          },
          "metadata": {},
          "execution_count": 92
        }
      ]
    },
    {
      "cell_type": "code",
      "source": [
        "\n",
        "b = tf.constant(np.arange(13, 25, dtype=np.int32), shape=[2, 3, 2])\n",
        "print(b)  # 3-D tensor\n",
        "c= tf.constant(np.arange(1,13,dtype=np.int32),shape=[2,2,3])\n",
        "print(c)\n",
        "tf.linalg.matmul(b,c)"
      ],
      "metadata": {
        "colab": {
          "base_uri": "https://localhost:8080/"
        },
        "id": "QfLZHVXLWQzk",
        "outputId": "da660511-a3ea-4fd6-8a65-8beff49574e9"
      },
      "execution_count": 101,
      "outputs": [
        {
          "output_type": "stream",
          "name": "stdout",
          "text": [
            "tf.Tensor(\n",
            "[[[13 14]\n",
            "  [15 16]\n",
            "  [17 18]]\n",
            "\n",
            " [[19 20]\n",
            "  [21 22]\n",
            "  [23 24]]], shape=(2, 3, 2), dtype=int32)\n",
            "tf.Tensor(\n",
            "[[[ 1  2  3]\n",
            "  [ 4  5  6]]\n",
            "\n",
            " [[ 7  8  9]\n",
            "  [10 11 12]]], shape=(2, 2, 3), dtype=int32)\n"
          ]
        },
        {
          "output_type": "execute_result",
          "data": {
            "text/plain": [
              "<tf.Tensor: shape=(2, 3, 3), dtype=int32, numpy=\n",
              "array([[[ 69,  96, 123],\n",
              "        [ 79, 110, 141],\n",
              "        [ 89, 124, 159]],\n",
              "\n",
              "       [[333, 372, 411],\n",
              "        [367, 410, 453],\n",
              "        [401, 448, 495]]], dtype=int32)>"
            ]
          },
          "metadata": {},
          "execution_count": 101
        }
      ]
    },
    {
      "cell_type": "markdown",
      "source": [
        "The band part is computed as follows: Assume input has k dimensions [I, J, K, ..., M, N], then the output is a tensor with the same shape where\n",
        "\n",
        "band[i, j, k, ..., m, n] = in_band(m, n) * input[i, j, k, ..., m, n].\n",
        "\n",
        "The indicator function\n",
        "\n",
        "in_band(m, n) = (num_lower < 0 || (m-n) <= num_lower)) && (num_upper < 0 || (n-m) <= num_upper)."
      ],
      "metadata": {
        "id": "semdCYQKWT0l"
      }
    },
    {
      "cell_type": "code",
      "source": [
        "input = tf.constant([[ 0,  1,  2, 3],\n",
        "[-1,  0,  1, 2],\n",
        "[-2, -1,  0, 1],\n",
        "[-3, -2, -1, 0]])\n",
        "print(input)\n",
        "\n",
        "print(tf.linalg.band_part(input,num_lower=1, num_upper=-1))\n",
        "\n",
        "print(tf.linalg.band_part(input, 2, 1))"
      ],
      "metadata": {
        "colab": {
          "base_uri": "https://localhost:8080/"
        },
        "id": "ELIslk0qm08V",
        "outputId": "1c53eb84-1b67-4ee2-9340-32cc8865eede"
      },
      "execution_count": 103,
      "outputs": [
        {
          "output_type": "stream",
          "name": "stdout",
          "text": [
            "tf.Tensor(\n",
            "[[ 0  1  2  3]\n",
            " [-1  0  1  2]\n",
            " [-2 -1  0  1]\n",
            " [-3 -2 -1  0]], shape=(4, 4), dtype=int32)\n",
            "tf.Tensor(\n",
            "[[ 0  1  2  3]\n",
            " [-1  0  1  2]\n",
            " [ 0 -1  0  1]\n",
            " [ 0  0 -1  0]], shape=(4, 4), dtype=int32)\n",
            "tf.Tensor(\n",
            "[[ 0  1  0  0]\n",
            " [-1  0  1  0]\n",
            " [-2 -1  0  1]\n",
            " [ 0 -2 -1  0]], shape=(4, 4), dtype=int32)\n"
          ]
        }
      ]
    },
    {
      "cell_type": "code",
      "source": [
        "print(tf.linalg.band_part(input, 0, -1)) # Upper triangular part.\n",
        "print(tf.linalg.band_part(input, -1, 0)) # Lower triangular part.\n",
        "print(tf.linalg.band_part(input, 0, 0))  # Diagonal"
      ],
      "metadata": {
        "colab": {
          "base_uri": "https://localhost:8080/"
        },
        "id": "AJJeIGo0nYNp",
        "outputId": "0aa53a34-88c9-43be-857e-2cfd26b7c3b5"
      },
      "execution_count": 104,
      "outputs": [
        {
          "output_type": "stream",
          "name": "stdout",
          "text": [
            "tf.Tensor(\n",
            "[[0 1 2 3]\n",
            " [0 0 1 2]\n",
            " [0 0 0 1]\n",
            " [0 0 0 0]], shape=(4, 4), dtype=int32)\n",
            "tf.Tensor(\n",
            "[[ 0  0  0  0]\n",
            " [-1  0  0  0]\n",
            " [-2 -1  0  0]\n",
            " [-3 -2 -1  0]], shape=(4, 4), dtype=int32)\n",
            "tf.Tensor(\n",
            "[[0 0 0 0]\n",
            " [0 0 0 0]\n",
            " [0 0 0 0]\n",
            " [0 0 0 0]], shape=(4, 4), dtype=int32)\n"
          ]
        }
      ]
    },
    {
      "cell_type": "code",
      "source": [
        "sq_mat = tf.constant(np.arange(1,5),shape=(2,2),dtype=tf.float32\n",
        "                     )\n",
        "print(sq_mat)\n",
        "# to get the inverse the matrix has to be a square matrix\n",
        "tf.linalg.inv(sq_mat)\n"
      ],
      "metadata": {
        "colab": {
          "base_uri": "https://localhost:8080/"
        },
        "id": "nULER33_oA1x",
        "outputId": "75e62b4f-2aa3-43d7-a293-0f6d27b26f10"
      },
      "execution_count": 113,
      "outputs": [
        {
          "output_type": "stream",
          "name": "stdout",
          "text": [
            "tf.Tensor(\n",
            "[[1. 2.]\n",
            " [3. 4.]], shape=(2, 2), dtype=float32)\n"
          ]
        },
        {
          "output_type": "execute_result",
          "data": {
            "text/plain": [
              "<tf.Tensor: shape=(2, 2), dtype=float32, numpy=\n",
              "array([[-2.0000002 ,  1.0000001 ],\n",
              "       [ 1.5000001 , -0.50000006]], dtype=float32)>"
            ]
          },
          "metadata": {},
          "execution_count": 113
        }
      ]
    },
    {
      "cell_type": "code",
      "source": [
        "# inv of a matrix * the matrix itself  === iddentity matrix\n",
        "\n",
        "sq_mat@tf.linalg.inv(sq_mat)"
      ],
      "metadata": {
        "colab": {
          "base_uri": "https://localhost:8080/"
        },
        "id": "A4IfvJUkp1Dz",
        "outputId": "3595269c-c4cf-4813-a1fb-80d7709a6001"
      },
      "execution_count": 115,
      "outputs": [
        {
          "output_type": "execute_result",
          "data": {
            "text/plain": [
              "<tf.Tensor: shape=(2, 2), dtype=float32, numpy=\n",
              "array([[ 1.0000000e+00,  0.0000000e+00],\n",
              "       [-4.7683716e-07,  1.0000002e+00]], dtype=float32)>"
            ]
          },
          "metadata": {},
          "execution_count": 115
        }
      ]
    },
    {
      "cell_type": "code",
      "source": [
        "# svd of tensor\n",
        "s ,v , d = tf.linalg.svd(sq_mat)\n",
        "print(s,v,d)"
      ],
      "metadata": {
        "colab": {
          "base_uri": "https://localhost:8080/"
        },
        "id": "LOu6a_FLrBHV",
        "outputId": "47fd6c92-68c2-4365-b636-42cd65352205"
      },
      "execution_count": 117,
      "outputs": [
        {
          "output_type": "stream",
          "name": "stdout",
          "text": [
            "tf.Tensor([5.4649854  0.36596614], shape=(2,), dtype=float32) tf.Tensor(\n",
            "[[ 0.4045535 -0.9145143]\n",
            " [ 0.9145143  0.4045535]], shape=(2, 2), dtype=float32) tf.Tensor(\n",
            "[[ 0.5760484  0.8174156]\n",
            " [ 0.8174156 -0.5760484]], shape=(2, 2), dtype=float32)\n"
          ]
        }
      ]
    },
    {
      "cell_type": "markdown",
      "source": [
        "# tf.insum"
      ],
      "metadata": {
        "id": "vRzIIVBtralZ"
      }
    },
    {
      "cell_type": "code",
      "source": [
        "m0 = tf.random.normal(shape=[2, 3])\n",
        "print(m0)\n",
        "m1 = tf.random.normal(shape=[3, 5])\n",
        "print(m1)\n",
        "\n",
        "\n"
      ],
      "metadata": {
        "colab": {
          "base_uri": "https://localhost:8080/"
        },
        "id": "T3KKBk1Arr_M",
        "outputId": "52af7b99-edaf-4248-f3f2-089af7f14602"
      },
      "execution_count": 119,
      "outputs": [
        {
          "output_type": "stream",
          "name": "stdout",
          "text": [
            "tf.Tensor(\n",
            "[[ 0.3274685 -0.8426258  0.3194337]\n",
            " [-1.4075519 -2.3880599 -1.0392479]], shape=(2, 3), dtype=float32)\n",
            "tf.Tensor(\n",
            "[[ 8.4224582e-02 -8.6090374e-01  3.7812304e-01 -5.1962738e-03\n",
            "  -4.9453196e-01]\n",
            " [ 6.1781919e-01 -3.3082047e-01 -1.3840806e-03 -4.2373410e-01\n",
            "  -1.3872087e+00]\n",
            " [-1.5488191e+00 -5.3198391e-01 -4.4756433e-01 -2.0115814e+00\n",
            "  -5.7926011e-01]], shape=(3, 5), dtype=float32)\n"
          ]
        }
      ]
    },
    {
      "cell_type": "code",
      "source": [
        "e = tf.einsum('ij,jk->ik', m0, m1)"
      ],
      "metadata": {
        "id": "FXJrMhvPtD_2"
      },
      "execution_count": 120,
      "outputs": []
    },
    {
      "cell_type": "code",
      "source": [
        "print(e)"
      ],
      "metadata": {
        "colab": {
          "base_uri": "https://localhost:8080/"
        },
        "id": "Q0yeCvBytIYB",
        "outputId": "23943877-5869-4098-cb5f-83c9526e0f68"
      },
      "execution_count": 121,
      "outputs": [
        {
          "output_type": "stream",
          "name": "stdout",
          "text": [
            "tf.Tensor(\n",
            "[[-0.98775446 -0.1730946  -0.01797747 -0.2872192   0.82191896]\n",
            " [ 0.0156672   2.5546489  -0.06379229  3.1097481   4.6108117 ]], shape=(2, 5), dtype=float32)\n"
          ]
        }
      ]
    },
    {
      "cell_type": "code",
      "source": [
        "print(e.shape)"
      ],
      "metadata": {
        "colab": {
          "base_uri": "https://localhost:8080/"
        },
        "id": "FUQ7in13tJ_5",
        "outputId": "52f37a6c-a0f4-4c7b-9258-1ccc4359b9c8"
      },
      "execution_count": 122,
      "outputs": [
        {
          "output_type": "stream",
          "name": "stdout",
          "text": [
            "(2, 5)\n"
          ]
        }
      ]
    },
    {
      "cell_type": "code",
      "source": [
        "m0 = tf.random.uniform(\n",
        "    minval=5,\n",
        "    maxval=52,\n",
        "    dtype=tf.dtypes.int32,\n",
        "    seed=42,\n",
        "    name=None,\n",
        "    shape=( 3,5))\n",
        "print(m0)\n",
        "m1 = tf.random.uniform(minval=5,maxval=25,dtype=tf.dtypes.int32,shape=[3, 5])\n",
        "print(m1)"
      ],
      "metadata": {
        "colab": {
          "base_uri": "https://localhost:8080/"
        },
        "id": "PNU1wUeztL5S",
        "outputId": "bd9dc383-47f4-4dfc-f544-92b532172032"
      },
      "execution_count": 129,
      "outputs": [
        {
          "output_type": "stream",
          "name": "stdout",
          "text": [
            "tf.Tensor(\n",
            "[[13 35 36 16 44]\n",
            " [23 23 45 34 50]\n",
            " [43  7 23  8 36]], shape=(3, 5), dtype=int32)\n",
            "tf.Tensor(\n",
            "[[19 15  9  9  7]\n",
            " [15 17 17  7 18]\n",
            " [20 11 12 24  6]], shape=(3, 5), dtype=int32)\n"
          ]
        }
      ]
    },
    {
      "cell_type": "code",
      "source": [
        "# hardamond & elementwise\n",
        "e0  = tf.einsum('ij,ij->ij',m0,m1)\n",
        "print(e0)"
      ],
      "metadata": {
        "colab": {
          "base_uri": "https://localhost:8080/"
        },
        "id": "bUHTXPSmuCWa",
        "outputId": "a61f4a62-5f94-4db4-e61c-fcd579545791"
      },
      "execution_count": 139,
      "outputs": [
        {
          "output_type": "stream",
          "name": "stdout",
          "text": [
            "tf.Tensor(\n",
            "[[247 525 324 144 308]\n",
            " [345 391 765 238 900]\n",
            " [860  77 276 192 216]], shape=(3, 5), dtype=int32)\n"
          ]
        }
      ]
    },
    {
      "cell_type": "code",
      "source": [
        "13*19"
      ],
      "metadata": {
        "colab": {
          "base_uri": "https://localhost:8080/"
        },
        "id": "UHZDwnU8vGdq",
        "outputId": "c42c27c1-4ab7-4b99-b7c4-237f136c013d"
      },
      "execution_count": 136,
      "outputs": [
        {
          "output_type": "execute_result",
          "data": {
            "text/plain": [
              "247"
            ]
          },
          "metadata": {},
          "execution_count": 136
        }
      ]
    },
    {
      "cell_type": "code",
      "source": [
        "e0T = tf.einsum('ij->ji',e0)\n",
        "print(e0T)"
      ],
      "metadata": {
        "colab": {
          "base_uri": "https://localhost:8080/"
        },
        "id": "O-taysJ2vJ1K",
        "outputId": "2c06bd2a-cd32-41e6-c199-5db949b3a3c6"
      },
      "execution_count": 138,
      "outputs": [
        {
          "output_type": "stream",
          "name": "stdout",
          "text": [
            "tf.Tensor(\n",
            "[[247 345 860]\n",
            " [525 391  77]\n",
            " [324 765 276]\n",
            " [144 238 192]\n",
            " [308 900 216]], shape=(5, 3), dtype=int32)\n"
          ]
        }
      ]
    },
    {
      "cell_type": "code",
      "source": [
        "# working with 3d arrays"
      ],
      "metadata": {
        "id": "96Q53Ja7vdr2"
      },
      "execution_count": 140,
      "outputs": []
    },
    {
      "cell_type": "code",
      "source": [
        ""
      ],
      "metadata": {
        "id": "Y9mt5y02wUi9"
      },
      "execution_count": null,
      "outputs": []
    }
  ]
}