{
  "nbformat": 4,
  "nbformat_minor": 0,
  "metadata": {
    "colab": {
      "provenance": [],
      "authorship_tag": "ABX9TyPvugLr/qDspUeHn+5p6uPM",
      "include_colab_link": true
    },
    "kernelspec": {
      "name": "python3",
      "display_name": "Python 3"
    },
    "language_info": {
      "name": "python"
    }
  },
  "cells": [
    {
      "cell_type": "markdown",
      "metadata": {
        "id": "view-in-github",
        "colab_type": "text"
      },
      "source": [
        "<a href=\"https://colab.research.google.com/github/srijonp4/dl/blob/main/lesson_0.ipynb\" target=\"_parent\"><img src=\"https://colab.research.google.com/assets/colab-badge.svg\" alt=\"Open In Colab\"/></a>"
      ]
    },
    {
      "cell_type": "code",
      "execution_count": 15,
      "metadata": {
        "id": "8wx2O2zK4oAU"
      },
      "outputs": [],
      "source": [
        "import tensorflow as tf\n",
        "import numpy as np\n",
        "import matplotlib.pyplot as plt\n",
        "import pandas as pd\n"
      ]
    },
    {
      "cell_type": "code",
      "source": [
        "tensor_zero_d = tf.constant(4)"
      ],
      "metadata": {
        "id": "wmAmrJ_s4q8D"
      },
      "execution_count": 16,
      "outputs": []
    },
    {
      "cell_type": "code",
      "source": [
        "import tensorflow as tf\n",
        "tensor_one_d = tf.constant([-2,0,2,3,4,5],dtype=tf.float32)\n",
        "tensor_one_d"
      ],
      "metadata": {
        "colab": {
          "base_uri": "https://localhost:8080/"
        },
        "id": "X0uyx3Mt4vjL",
        "outputId": "7da950f8-25fc-4c4d-f8ae-13937a345944"
      },
      "execution_count": 17,
      "outputs": [
        {
          "output_type": "execute_result",
          "data": {
            "text/plain": [
              "<tf.Tensor: shape=(6,), dtype=float32, numpy=array([-2.,  0.,  2.,  3.,  4.,  5.], dtype=float32)>"
            ]
          },
          "metadata": {},
          "execution_count": 17
        }
      ]
    },
    {
      "cell_type": "code",
      "source": [
        "tensor_bool = tf.cast(tensor_one_d,dtype=tf.bool)\n",
        "tensor_bool"
      ],
      "metadata": {
        "colab": {
          "base_uri": "https://localhost:8080/"
        },
        "id": "mcE4CG2A9STp",
        "outputId": "c1cb9f53-00b6-4461-c7b0-2e773aab904a"
      },
      "execution_count": 18,
      "outputs": [
        {
          "output_type": "execute_result",
          "data": {
            "text/plain": [
              "<tf.Tensor: shape=(6,), dtype=bool, numpy=array([ True, False,  True,  True,  True,  True])>"
            ]
          },
          "metadata": {},
          "execution_count": 18
        }
      ]
    },
    {
      "cell_type": "code",
      "source": [
        "tensor_string = tf.constant(['helllo' , 'world'])\n",
        "tensor_string"
      ],
      "metadata": {
        "colab": {
          "base_uri": "https://localhost:8080/"
        },
        "id": "J5PPZYte9kfG",
        "outputId": "3ad85a0c-867c-4348-ebb4-1780352a7360"
      },
      "execution_count": 19,
      "outputs": [
        {
          "output_type": "execute_result",
          "data": {
            "text/plain": [
              "<tf.Tensor: shape=(2,), dtype=string, numpy=array([b'helllo', b'world'], dtype=object)>"
            ]
          },
          "metadata": {},
          "execution_count": 19
        }
      ]
    },
    {
      "cell_type": "code",
      "source": [
        "np_array = np.arange(0,25,dtype=float)\n",
        "np_array"
      ],
      "metadata": {
        "colab": {
          "base_uri": "https://localhost:8080/"
        },
        "id": "sqdmgjju-DXN",
        "outputId": "4af29fa3-b6e8-47ea-e6a6-282dfb6f3ddc"
      },
      "execution_count": 21,
      "outputs": [
        {
          "output_type": "execute_result",
          "data": {
            "text/plain": [
              "array([ 0.,  1.,  2.,  3.,  4.,  5.,  6.,  7.,  8.,  9., 10., 11., 12.,\n",
              "       13., 14., 15., 16., 17., 18., 19., 20., 21., 22., 23., 24.])"
            ]
          },
          "metadata": {},
          "execution_count": 21
        }
      ]
    },
    {
      "cell_type": "code",
      "source": [
        "tensor_from_np_array = tf.convert_to_tensor(np_array)\n",
        "tensor_from_np_array"
      ],
      "metadata": {
        "colab": {
          "base_uri": "https://localhost:8080/"
        },
        "id": "In_MFKbr-n9c",
        "outputId": "e4c7438f-3020-42e9-c38f-bdc221722d9e"
      },
      "execution_count": 23,
      "outputs": [
        {
          "output_type": "execute_result",
          "data": {
            "text/plain": [
              "<tf.Tensor: shape=(25,), dtype=float64, numpy=\n",
              "array([ 0.,  1.,  2.,  3.,  4.,  5.,  6.,  7.,  8.,  9., 10., 11., 12.,\n",
              "       13., 14., 15., 16., 17., 18., 19., 20., 21., 22., 23., 24.])>"
            ]
          },
          "metadata": {},
          "execution_count": 23
        }
      ]
    },
    {
      "cell_type": "code",
      "source": [
        "eye_tensor = tf.eye(\n",
        "    num_rows = 3 ,\n",
        "    num_columns = None ,\n",
        "    batch_shape = None ,\n",
        "    dtype = tf.dtypes.float32,\n",
        "    name = None\n",
        ")\n",
        "print(eye_tensor)"
      ],
      "metadata": {
        "colab": {
          "base_uri": "https://localhost:8080/"
        },
        "id": "phjRRED1-5CN",
        "outputId": "d3a713d1-1e31-4c74-dffc-5ffaed492ec4"
      },
      "execution_count": 24,
      "outputs": [
        {
          "output_type": "stream",
          "name": "stdout",
          "text": [
            "tf.Tensor(\n",
            "[[1. 0. 0.]\n",
            " [0. 1. 0.]\n",
            " [0. 0. 1.]], shape=(3, 3), dtype=float32)\n"
          ]
        }
      ]
    },
    {
      "cell_type": "code",
      "source": [
        "eye_tensor_2 = tf.eye(\n",
        "    num_rows = 3 ,\n",
        "    num_columns = 4 ,\n",
        "    batch_shape = None ,\n",
        "    dtype = tf.dtypes.bool,\n",
        "    name = None\n",
        ")\n",
        "print(eye_tensor_2)"
      ],
      "metadata": {
        "colab": {
          "base_uri": "https://localhost:8080/"
        },
        "id": "XRrRqHRI_dsl",
        "outputId": "b070343e-a400-4432-a47b-6bfa0c313900"
      },
      "execution_count": 27,
      "outputs": [
        {
          "output_type": "stream",
          "name": "stdout",
          "text": [
            "tf.Tensor(\n",
            "[[ True False False False]\n",
            " [False  True False False]\n",
            " [False False  True False]], shape=(3, 4), dtype=bool)\n"
          ]
        }
      ]
    },
    {
      "cell_type": "code",
      "source": [
        "eye_tensor_3 = tf.eye(\n",
        "    num_rows = 3 ,\n",
        "    num_columns = None ,\n",
        "    batch_shape = [2,] ,\n",
        "    dtype = tf.dtypes.int32,\n",
        "    name = None\n",
        ")\n",
        "print(eye_tensor_3)"
      ],
      "metadata": {
        "colab": {
          "base_uri": "https://localhost:8080/"
        },
        "id": "lI7smng5_2dr",
        "outputId": "8c0f51c5-fa54-4aaf-dbcc-4dc4dcc3c38e"
      },
      "execution_count": 29,
      "outputs": [
        {
          "output_type": "stream",
          "name": "stdout",
          "text": [
            "tf.Tensor(\n",
            "[[[1 0 0]\n",
            "  [0 1 0]\n",
            "  [0 0 1]]\n",
            "\n",
            " [[1 0 0]\n",
            "  [0 1 0]\n",
            "  [0 0 1]]], shape=(2, 3, 3), dtype=int32)\n"
          ]
        }
      ]
    },
    {
      "cell_type": "code",
      "source": [
        "eye_tensor_4 = tf.eye(\n",
        "    num_rows = 3 ,\n",
        "    num_columns = None ,\n",
        "    batch_shape = [2,4] ,\n",
        "    dtype = tf.dtypes.int32,\n",
        "    name = None\n",
        ")\n",
        "print(eye_tensor_4)"
      ],
      "metadata": {
        "colab": {
          "base_uri": "https://localhost:8080/"
        },
        "id": "wmrBr6zJAVEs",
        "outputId": "67f18215-4665-49df-d354-04f7a3b01e77"
      },
      "execution_count": 30,
      "outputs": [
        {
          "output_type": "stream",
          "name": "stdout",
          "text": [
            "tf.Tensor(\n",
            "[[[[1 0 0]\n",
            "   [0 1 0]\n",
            "   [0 0 1]]\n",
            "\n",
            "  [[1 0 0]\n",
            "   [0 1 0]\n",
            "   [0 0 1]]\n",
            "\n",
            "  [[1 0 0]\n",
            "   [0 1 0]\n",
            "   [0 0 1]]\n",
            "\n",
            "  [[1 0 0]\n",
            "   [0 1 0]\n",
            "   [0 0 1]]]\n",
            "\n",
            "\n",
            " [[[1 0 0]\n",
            "   [0 1 0]\n",
            "   [0 0 1]]\n",
            "\n",
            "  [[1 0 0]\n",
            "   [0 1 0]\n",
            "   [0 0 1]]\n",
            "\n",
            "  [[1 0 0]\n",
            "   [0 1 0]\n",
            "   [0 0 1]]\n",
            "\n",
            "  [[1 0 0]\n",
            "   [0 1 0]\n",
            "   [0 0 1]]]], shape=(2, 4, 3, 3), dtype=int32)\n"
          ]
        }
      ]
    },
    {
      "cell_type": "code",
      "source": [
        "# fill method\n",
        "filled_tensor = tf.fill([2,3,5],4)\n",
        "filled_tensor"
      ],
      "metadata": {
        "colab": {
          "base_uri": "https://localhost:8080/"
        },
        "id": "S0c0YtmcAtQ7",
        "outputId": "4f7f3275-8cd4-4051-c16f-377637547ac0"
      },
      "execution_count": 33,
      "outputs": [
        {
          "output_type": "execute_result",
          "data": {
            "text/plain": [
              "<tf.Tensor: shape=(2, 3, 5), dtype=int32, numpy=\n",
              "array([[[4, 4, 4, 4, 4],\n",
              "        [4, 4, 4, 4, 4],\n",
              "        [4, 4, 4, 4, 4]],\n",
              "\n",
              "       [[4, 4, 4, 4, 4],\n",
              "        [4, 4, 4, 4, 4],\n",
              "        [4, 4, 4, 4, 4]]], dtype=int32)>"
            ]
          },
          "metadata": {},
          "execution_count": 33
        }
      ]
    },
    {
      "cell_type": "code",
      "source": [],
      "metadata": {
        "id": "xEghgNXRA5Sr"
      },
      "execution_count": 31,
      "outputs": []
    }
  ]
}